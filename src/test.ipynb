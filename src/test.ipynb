{
 "cells": [
  {
   "cell_type": "code",
   "execution_count": 12,
   "metadata": {},
   "outputs": [
    {
     "data": {
      "text/plain": [
       "[('relu', 'activation', 'relu'), ('relu', 'activation', 'tanh')]"
      ]
     },
     "execution_count": 12,
     "metadata": {},
     "output_type": "execute_result"
    }
   ],
   "source": [
    "a = set()\n",
    "# define a triplet, head, relation, tail\n",
    "triplet = (\"relu\", \"activation\", \"relu\")\n",
    "# add the triplet to the set\n",
    "a.add(triplet)\n",
    "triplet = (\"relu\", \"activation\", \"tanh\")\n",
    "a.add(triplet)\n",
    "# write a to file\n",
    "import json\n",
    "\n",
    "with open(\"test.txt\", \"w\") as f:\n",
    "    json.dump(list(a), f, indent=4)\n",
    "\n",
    "list(a)"
   ]
  }
 ],
 "metadata": {
  "kernelspec": {
   "display_name": "myenv",
   "language": "python",
   "name": "python3"
  },
  "language_info": {
   "codemirror_mode": {
    "name": "ipython",
    "version": 3
   },
   "file_extension": ".py",
   "mimetype": "text/x-python",
   "name": "python",
   "nbconvert_exporter": "python",
   "pygments_lexer": "ipython3",
   "version": "3.11.5"
  }
 },
 "nbformat": 4,
 "nbformat_minor": 2
}
